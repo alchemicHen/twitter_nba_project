{
 "cells": [
  {
   "cell_type": "markdown",
   "metadata": {},
   "source": [
    "This notebook is to clean the twitter data/join on the NBA game data so that it can be used for analysis."
   ]
  },
  {
   "cell_type": "code",
   "execution_count": 67,
   "metadata": {},
   "outputs": [
    {
     "name": "stderr",
     "output_type": "stream",
     "text": [
      "[nltk_data] Downloading package stopwords to\n",
      "[nltk_data]     C:\\Users\\micha\\AppData\\Roaming\\nltk_data...\n",
      "[nltk_data]   Package stopwords is already up-to-date!\n",
      "[nltk_data] Downloading package punkt to\n",
      "[nltk_data]     C:\\Users\\micha\\AppData\\Roaming\\nltk_data...\n",
      "[nltk_data]   Package punkt is already up-to-date!\n"
     ]
    }
   ],
   "source": [
    "import pandas as pd\n",
    "import datetime as datetime\n",
    "import nltk\n",
    "from nltk.corpus import stopwords\n",
    "nltk.download('stopwords')\n",
    "nltk.download('punkt')\n",
    "import tqdm\n",
    "from nltk.tokenize import word_tokenize"
   ]
  },
  {
   "cell_type": "code",
   "execution_count": null,
   "metadata": {},
   "outputs": [],
   "source": [
    "mavs_df = pd.read_csv('mavs_tweets_all.csv')\n",
    "mavs_df\n"
   ]
  },
  {
   "cell_type": "code",
   "execution_count": 81,
   "metadata": {},
   "outputs": [],
   "source": [
    "tweet_text = mavs_df['text']"
   ]
  },
  {
   "cell_type": "markdown",
   "metadata": {},
   "source": [
    "Steps to preprocessing the tweet text:\n",
    "1. Removing @'s\n",
    "2. Removing links\n",
    "3. Separating hashtags\n",
    "4. Removing stop words"
   ]
  },
  {
   "cell_type": "code",
   "execution_count": 90,
   "metadata": {},
   "outputs": [],
   "source": [
    "#Cleaning Functions\n",
    "\n",
    "def remove_ats(tw): \n",
    "    '''\n",
    "    Removes @s from a tweet. \n",
    "    Improvements: \n",
    "       2. if at end of tweet still delete the handle\n",
    "    '''\n",
    "    if '@' not in tw: \n",
    "        return tw\n",
    "    \n",
    "    new_tw = tw\n",
    "    while '@' in new_tw:\n",
    "        index_of_at = new_tw.index('@')\n",
    "        search_range = new_tw[index_of_at:]\n",
    "        for i, char in enumerate(search_range): \n",
    "            if char == ' ': \n",
    "                end_index_at = i\n",
    "                break\n",
    "            elif i == (len(search_range) - 1): \n",
    "                end_index_at = i + 1\n",
    "                break    \n",
    "        delete_text = new_tw[index_of_at:end_index_at + index_of_at]\n",
    "        new_tw = new_tw.replace(delete_text, '')\n",
    "\n",
    "    new_tw = new_tw.strip()\n",
    "    return new_tw\n",
    "\n",
    "def remove_links(tw): \n",
    "    '''\n",
    "    Removes https links from tweets. \n",
    "    '''\n",
    "    if 'https' not in tw: \n",
    "        return tw\n",
    "    \n",
    "    new_tw = tw\n",
    "    while 'https' in new_tw:\n",
    "        index_of_http = new_tw.find('https')\n",
    "        search_range = new_tw[index_of_http:]\n",
    "        for i, char in enumerate(search_range): \n",
    "            if i == (len(search_range) - 1): \n",
    "                end_index_http = i + 1\n",
    "                break\n",
    "            elif char == ' ': \n",
    "                end_index_http = i\n",
    "                break\n",
    "        \n",
    "        delete_text = new_tw[index_of_http: end_index_http + index_of_http]   \n",
    "        new_tw = new_tw.replace(delete_text, '')\n",
    "    new_tw = new_tw.strip()\n",
    "    return new_tw\n",
    "\n",
    "def separate_hashtags(tw): \n",
    "    '''\n",
    "    Finds and seperates hashtags. \n",
    "    Improvements: \n",
    "       1. cases where no words in the hashtag are capitalized\n",
    "       2. when hashtag words are in dictionary\n",
    "    '''\n",
    "    if '#' not in tw: \n",
    "        return tw\n",
    "    \n",
    "    new_tw = tw\n",
    "    while '#' in new_tw:\n",
    "        index_of_hash = new_tw.find('#')\n",
    "        search_range = new_tw[index_of_hash:]\n",
    "        for i, char in enumerate(search_range): \n",
    "            if char == ' ': \n",
    "                end_index_hash = i\n",
    "                break \n",
    "            elif i == (len(search_range) - 1): \n",
    "                end_index_hash = i + 1\n",
    "                break\n",
    "        \n",
    "        new_hash_text = ''\n",
    "        text_range = new_tw[index_of_hash:end_index_hash + index_of_hash]\n",
    "        for char in text_range: \n",
    "            if char.islower():\n",
    "                new_hash_text += char\n",
    "            else: \n",
    "                new_hash_text += ' '\n",
    "                new_hash_text += char.lower()\n",
    "        \n",
    "        new_hash_text = new_hash_text.replace('#', '')\n",
    "        delete_text = new_tw[index_of_hash:end_index_hash + index_of_hash]\n",
    "        new_tw = new_tw.replace(delete_text, new_hash_text)\n",
    "    \n",
    "    new_tw = new_tw.strip()\n",
    "    return new_tw\n",
    "\n",
    "def remove_stopwords(tw):\n",
    "    '''\n",
    "    Removes stopwords from the tweet text.\n",
    "    Improvements:\n",
    "    1. Abbreviations can leave random letters\n",
    "    2. Some words in the stopwords list may be useful (over, under)\n",
    "    '''\n",
    "    stop_words = set(stopwords.words('english'))\n",
    "    word_tokens = word_tokenize(tw)\n",
    "    \n",
    "    new_tw = []\n",
    "    for word in word_tokens:\n",
    "        if word not in stop_words:\n",
    "            new_tw.append(word)\n",
    "    \n",
    "    return(\" \".join(new_tw))"
   ]
  },
  {
   "cell_type": "code",
   "execution_count": 91,
   "metadata": {},
   "outputs": [
    {
     "name": "stderr",
     "output_type": "stream",
     "text": [
      "100%|██████████| 176123/176123 [01:11<00:00, 2461.44it/s]\n"
     ]
    }
   ],
   "source": [
    "#Using the above the functions to perform text preprocessing\n",
    "\n",
    "tweet_text = mavs_df['text']\n",
    "\n",
    "cleaned_tws = []\n",
    "for tweet in tqdm.tqdm(tweet_text): \n",
    "    stage_one = remove_ats(tweet)\n",
    "    stage_two = remove_links(stage_one)\n",
    "    stage_three = separate_hashtags(stage_two)\n",
    "    final_tweet = remove_stopwords(stage_three)\n",
    "    cleaned_tws.append(final_tweet)"
   ]
  },
  {
   "cell_type": "markdown",
   "metadata": {},
   "source": [
    "Next, using the list output as the text column in a new dataframe."
   ]
  },
  {
   "cell_type": "code",
   "execution_count": 95,
   "metadata": {},
   "outputs": [],
   "source": [
    "mavs_df_textprocessed = mavs_df\n",
    "mavs_df_textprocessed['text'] = cleaned_tws\n",
    "mavs_df_textprocessed.to_csv('mavs_df_textprocessed.csv')"
   ]
  },
  {
   "cell_type": "code",
   "execution_count": null,
   "metadata": {},
   "outputs": [],
   "source": []
  }
 ],
 "metadata": {
  "interpreter": {
   "hash": "54e72497fd64358f52832107e3cdfaf9f975ee2964d8f26ed128ba56fc24de73"
  },
  "kernelspec": {
   "display_name": "Python 3.8.8 ('base')",
   "language": "python",
   "name": "python3"
  },
  "language_info": {
   "codemirror_mode": {
    "name": "ipython",
    "version": 3
   },
   "file_extension": ".py",
   "mimetype": "text/x-python",
   "name": "python",
   "nbconvert_exporter": "python",
   "pygments_lexer": "ipython3",
   "version": "3.8.8"
  },
  "orig_nbformat": 4
 },
 "nbformat": 4,
 "nbformat_minor": 2
}
