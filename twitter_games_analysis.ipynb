{
 "cells": [
  {
   "cell_type": "markdown",
   "metadata": {},
   "source": [
    "This notebook is for analysis on the final tweets/games dataset containing tweets referencing the mavs and their sentiment, and any game that was played on the same day. If there was not a game played on that day, the `following_result` column indicates the result of the next game that was played."
   ]
  },
  {
   "cell_type": "code",
   "execution_count": 81,
   "metadata": {},
   "outputs": [],
   "source": [
    "import pandas as pd\n",
    "import datetime as datetime\n",
    "import nltk\n",
    "import numpy as np\n",
    "import matplotlib.pyplot as plt\n",
    "import tqdm\n",
    "import math\n",
    "import seaborn as sns"
   ]
  },
  {
   "cell_type": "code",
   "execution_count": 21,
   "metadata": {},
   "outputs": [
    {
     "data": {
      "text/html": [
       "<div>\n",
       "<style scoped>\n",
       "    .dataframe tbody tr th:only-of-type {\n",
       "        vertical-align: middle;\n",
       "    }\n",
       "\n",
       "    .dataframe tbody tr th {\n",
       "        vertical-align: top;\n",
       "    }\n",
       "\n",
       "    .dataframe thead th {\n",
       "        text-align: right;\n",
       "    }\n",
       "</style>\n",
       "<table border=\"1\" class=\"dataframe\">\n",
       "  <thead>\n",
       "    <tr style=\"text-align: right;\">\n",
       "      <th></th>\n",
       "      <th>Unnamed: 0</th>\n",
       "      <th>Datetime</th>\n",
       "      <th>tweet_id</th>\n",
       "      <th>username</th>\n",
       "      <th>text</th>\n",
       "      <th>verified</th>\n",
       "      <th>retweet_count</th>\n",
       "      <th>like_count</th>\n",
       "      <th>Date</th>\n",
       "      <th>Opposing Team</th>\n",
       "      <th>Win or Loss</th>\n",
       "      <th>Score</th>\n",
       "      <th>Record</th>\n",
       "      <th>Leading Scorer-Winner</th>\n",
       "      <th>Leading Scorer Points</th>\n",
       "      <th>Leading Scorer Loss</th>\n",
       "      <th>Leading Scorer Points.1</th>\n",
       "      <th>tweet_sentiment</th>\n",
       "      <th>following_result</th>\n",
       "    </tr>\n",
       "  </thead>\n",
       "  <tbody>\n",
       "    <tr>\n",
       "      <th>0</th>\n",
       "      <td>0</td>\n",
       "      <td>2021-10-20 00:00:47+00:00</td>\n",
       "      <td>1450612926893760517</td>\n",
       "      <td>mabinanba</td>\n",
       "      <td>da um mata leão nele e tranca armário</td>\n",
       "      <td>False</td>\n",
       "      <td>0</td>\n",
       "      <td>1</td>\n",
       "      <td>2021-10-20</td>\n",
       "      <td>NaN</td>\n",
       "      <td>NaN</td>\n",
       "      <td>NaN</td>\n",
       "      <td>NaN</td>\n",
       "      <td>NaN</td>\n",
       "      <td>NaN</td>\n",
       "      <td>NaN</td>\n",
       "      <td>NaN</td>\n",
       "      <td>0.0000</td>\n",
       "      <td>L</td>\n",
       "    </tr>\n",
       "    <tr>\n",
       "      <th>1</th>\n",
       "      <td>1</td>\n",
       "      <td>2021-10-20 00:00:54+00:00</td>\n",
       "      <td>1450612957193261056</td>\n",
       "      <td>Aaron_Del24</td>\n",
       "      <td>Jazz Suns Lakers Mavs Blazers Nuggets Warriors...</td>\n",
       "      <td>False</td>\n",
       "      <td>0</td>\n",
       "      <td>0</td>\n",
       "      <td>2021-10-20</td>\n",
       "      <td>NaN</td>\n",
       "      <td>NaN</td>\n",
       "      <td>NaN</td>\n",
       "      <td>NaN</td>\n",
       "      <td>NaN</td>\n",
       "      <td>NaN</td>\n",
       "      <td>NaN</td>\n",
       "      <td>NaN</td>\n",
       "      <td>0.0000</td>\n",
       "      <td>L</td>\n",
       "    </tr>\n",
       "    <tr>\n",
       "      <th>2</th>\n",
       "      <td>2</td>\n",
       "      <td>2021-10-20 00:01:02+00:00</td>\n",
       "      <td>1450612991649632262</td>\n",
       "      <td>ZachPrell</td>\n",
       "      <td>I sure hope , want see Luka Mavs good things</td>\n",
       "      <td>False</td>\n",
       "      <td>0</td>\n",
       "      <td>1</td>\n",
       "      <td>2021-10-20</td>\n",
       "      <td>NaN</td>\n",
       "      <td>NaN</td>\n",
       "      <td>NaN</td>\n",
       "      <td>NaN</td>\n",
       "      <td>NaN</td>\n",
       "      <td>NaN</td>\n",
       "      <td>NaN</td>\n",
       "      <td>NaN</td>\n",
       "      <td>0.8126</td>\n",
       "      <td>L</td>\n",
       "    </tr>\n",
       "    <tr>\n",
       "      <th>3</th>\n",
       "      <td>3</td>\n",
       "      <td>2021-10-20 00:01:13+00:00</td>\n",
       "      <td>1450613037568872454</td>\n",
       "      <td>MensaNinja</td>\n",
       "      <td>U mean like Redick Meli ...... I 'm surprised ...</td>\n",
       "      <td>False</td>\n",
       "      <td>0</td>\n",
       "      <td>0</td>\n",
       "      <td>2021-10-20</td>\n",
       "      <td>NaN</td>\n",
       "      <td>NaN</td>\n",
       "      <td>NaN</td>\n",
       "      <td>NaN</td>\n",
       "      <td>NaN</td>\n",
       "      <td>NaN</td>\n",
       "      <td>NaN</td>\n",
       "      <td>NaN</td>\n",
       "      <td>0.6096</td>\n",
       "      <td>L</td>\n",
       "    </tr>\n",
       "    <tr>\n",
       "      <th>4</th>\n",
       "      <td>4</td>\n",
       "      <td>2021-10-20 00:02:19+00:00</td>\n",
       "      <td>1450613312778031108</td>\n",
       "      <td>ChrisGallegosNV</td>\n",
       "      <td>I ’ saying throw , ’ clear ’ substantive conve...</td>\n",
       "      <td>False</td>\n",
       "      <td>0</td>\n",
       "      <td>0</td>\n",
       "      <td>2021-10-20</td>\n",
       "      <td>NaN</td>\n",
       "      <td>NaN</td>\n",
       "      <td>NaN</td>\n",
       "      <td>NaN</td>\n",
       "      <td>NaN</td>\n",
       "      <td>NaN</td>\n",
       "      <td>NaN</td>\n",
       "      <td>NaN</td>\n",
       "      <td>0.9476</td>\n",
       "      <td>L</td>\n",
       "    </tr>\n",
       "  </tbody>\n",
       "</table>\n",
       "</div>"
      ],
      "text/plain": [
       "   Unnamed: 0                   Datetime             tweet_id  \\\n",
       "0           0  2021-10-20 00:00:47+00:00  1450612926893760517   \n",
       "1           1  2021-10-20 00:00:54+00:00  1450612957193261056   \n",
       "2           2  2021-10-20 00:01:02+00:00  1450612991649632262   \n",
       "3           3  2021-10-20 00:01:13+00:00  1450613037568872454   \n",
       "4           4  2021-10-20 00:02:19+00:00  1450613312778031108   \n",
       "\n",
       "          username                                               text  \\\n",
       "0        mabinanba              da um mata leão nele e tranca armário   \n",
       "1      Aaron_Del24  Jazz Suns Lakers Mavs Blazers Nuggets Warriors...   \n",
       "2        ZachPrell       I sure hope , want see Luka Mavs good things   \n",
       "3       MensaNinja  U mean like Redick Meli ...... I 'm surprised ...   \n",
       "4  ChrisGallegosNV  I ’ saying throw , ’ clear ’ substantive conve...   \n",
       "\n",
       "   verified  retweet_count  like_count        Date Opposing Team Win or Loss  \\\n",
       "0     False              0           1  2021-10-20           NaN         NaN   \n",
       "1     False              0           0  2021-10-20           NaN         NaN   \n",
       "2     False              0           1  2021-10-20           NaN         NaN   \n",
       "3     False              0           0  2021-10-20           NaN         NaN   \n",
       "4     False              0           0  2021-10-20           NaN         NaN   \n",
       "\n",
       "  Score Record Leading Scorer-Winner Leading Scorer Points  \\\n",
       "0   NaN    NaN                   NaN                   NaN   \n",
       "1   NaN    NaN                   NaN                   NaN   \n",
       "2   NaN    NaN                   NaN                   NaN   \n",
       "3   NaN    NaN                   NaN                   NaN   \n",
       "4   NaN    NaN                   NaN                   NaN   \n",
       "\n",
       "  Leading Scorer Loss Leading Scorer Points.1  tweet_sentiment  \\\n",
       "0                 NaN                     NaN           0.0000   \n",
       "1                 NaN                     NaN           0.0000   \n",
       "2                 NaN                     NaN           0.8126   \n",
       "3                 NaN                     NaN           0.6096   \n",
       "4                 NaN                     NaN           0.9476   \n",
       "\n",
       "  following_result  \n",
       "0                L  \n",
       "1                L  \n",
       "2                L  \n",
       "3                L  \n",
       "4                L  "
      ]
     },
     "execution_count": 21,
     "metadata": {},
     "output_type": "execute_result"
    }
   ],
   "source": [
    "tw_df = pd.read_csv('Datasets\\\\tweets_games_final.csv')\n",
    "tw_df.head()"
   ]
  },
  {
   "cell_type": "markdown",
   "metadata": {},
   "source": [
    "Performing exploratory data analysis on the dataset."
   ]
  },
  {
   "cell_type": "code",
   "execution_count": 23,
   "metadata": {},
   "outputs": [
    {
     "name": "stdout",
     "output_type": "stream",
     "text": [
      "Verified polarity mean: 0.2752564087418782\n",
      "Verified samples: 96501\n",
      "Nonverified polarity mean: 0.21353884312649035\n",
      "Nonverified samplesL 1868346\n"
     ]
    }
   ],
   "source": [
    "#Finding the average sentiment of verified users vs non-verified users\n",
    "\n",
    "#Dropping tweets that are completely neutral\n",
    "senti_df = tw_df[tw_df.tweet_sentiment != 0]\n",
    "\n",
    "verified_df = senti_df.loc[senti_df['verified'] == True]\n",
    "verified_pol_mean = verified_df['tweet_sentiment'].mean()\n",
    "\n",
    "nonv_df = senti_df.loc[senti_df['verified'] == False]\n",
    "nonv_pol_mean = nonv_df['tweet_sentiment'].mean()\n",
    "\n",
    "print('Verified polarity mean: ' + str(verified_pol_mean))\n",
    "print('Verified samples: ' + str(verified_df.size))\n",
    "print('Nonverified polarity mean: ' + str(nonv_pol_mean))\n",
    "print('Nonverified samplesL ' + str(nonv_df.size))"
   ]
  },
  {
   "cell_type": "markdown",
   "metadata": {},
   "source": [
    "So here we can see that the polarity of the tweets from verified users is slightly higher than that of non-verified users. However, the number of tweets from non-verified users is much higher as well. Another potential bias within the data is that the majority of tweets seem to have positive sentiment. This is likely a result of response and selection bias within the query in data collection: fans of a particular team are more likely to tweet about them than people that are neutral or dislike them."
   ]
  },
  {
   "cell_type": "code",
   "execution_count": 77,
   "metadata": {},
   "outputs": [
    {
     "name": "stdout",
     "output_type": "stream",
     "text": [
      "Verified sentiment preceding a win: 0.24343606796116524\n",
      "Nonverified sentiment preceding a win: 0.20265060290155731\n",
      "Verified sentiment preceding a loss: 0.2687075504828804\n",
      "Nonverified sentiment preceding a loss: 0.18604758566295404\n"
     ]
    },
    {
     "data": {
      "image/png": "[encoded data removed]",
      "text/plain": [
       "<Figure size 432x288 with 1 Axes>"
      ]
     },
     "metadata": {
      "needs_background": "light"
     },
     "output_type": "display_data"
    }
   ],
   "source": [
    "#Performing further analysis on the sentiment of tweets before games: dropping tweets that were made the same day as a game.\n",
    "senti_df = senti_df.replace({np.nan: None})\n",
    "\n",
    "pregame_df = senti_df[senti_df['Record'].isna()]\n",
    "\n",
    "#Comparing the sentiment of nonverified users to verified users when the following game result is a W/L\n",
    "win_df = pregame_df[pregame_df['following_result'] == 'W']\n",
    "\n",
    "veri_win = win_df[win_df['verified'] == True]['tweet_sentiment'].mean()\n",
    "nonveri_win = win_df[win_df['verified'] == False]['tweet_sentiment'].mean()\n",
    "print('Verified sentiment preceding a win: ' + str(veri_win))\n",
    "print('Nonverified sentiment preceding a win: ' + str(nonveri_win))\n",
    "\n",
    "loss_df = pregame_df[pregame_df['following_result'] == 'L']\n",
    "veri_loss = loss_df[loss_df['verified'] == True]['tweet_sentiment'].mean()\n",
    "nonveri_loss = loss_df[loss_df['verified'] == False]['tweet_sentiment'].mean()\n",
    "print('Verified sentiment preceding a loss: ' + str(veri_loss))\n",
    "print('Nonverified sentiment preceding a loss: ' + str(nonveri_loss))\n",
    "\n",
    "#Visualizing\n",
    "veri_results = [veri_win, veri_loss]\n",
    "nonveri_results = [nonveri_win, nonveri_loss]\n",
    "wl_df= pd.DataFrame({'Verified': veri_results, 'Nonverified': nonveri_results}, index=['Win', 'Loss'])\n",
    "\n",
    "ax = wl_df.plot.bar(rot=0, color={'Verified': '#1DA1F2', 'Nonverified':'gray'})\n",
    "plt.ylabel('Sentiment')\n",
    "plt.legend(loc=1, prop={'size': 8})\n",
    "plt.title('Sentiment of Verified and Nonverified Users Preceding a Win and Loss')\n",
    "plt.show()\n"
   ]
  },
  {
   "cell_type": "markdown",
   "metadata": {},
   "source": [
    "This seeks to address the main research question from the hypothesis. It can be seen that verified users typically tend to be more positive than nonverified users regardless of a win or loss. However, preceding a loss, verified users are even more positive than nonverified users compared to when their tweet precedes a win. This is interesting since despite the team losing after the tweet was made, verified users seem to be comparatively more optimistic than before a win. When considering the wisdom of the crowd, perhaps the nonverified user's relative pessimism towards the team indicates higher accuracy. However, verified users are indeed consistently more positive, meaning that before a win, they are rightfully more positive than nonverified users."
   ]
  },
  {
   "cell_type": "code",
   "execution_count": 96,
   "metadata": {},
   "outputs": [
    {
     "data": {
      "text/plain": [
       "<AxesSubplot:>"
      ]
     },
     "execution_count": 96,
     "metadata": {},
     "output_type": "execute_result"
    },
    {
     "data": {
      "image/png": "[encoded data removed]",
      "text/plain": [
       "<Figure size 432x288 with 2 Axes>"
      ]
     },
     "metadata": {
      "needs_background": "light"
     },
     "output_type": "display_data"
    }
   ],
   "source": [
    "#Performing Correlation Analysis\n",
    "corr_df = senti_df[['verified', 'tweet_sentiment', 'following_result']]\n",
    "#Changing W to 1 and L to 0\n",
    "corr_df = corr_df.replace({'following_result':{'W': 1, 'L': 0}})\n",
    "sns.heatmap(corr_df.corr(method ='pearson'), annot=True,lw=1)"
   ]
  },
  {
   "cell_type": "markdown",
   "metadata": {},
   "source": [
    "While there is indeed a slight difference between how verified and nonverified users perform, there appears to be practically no correlation between the sentiment of tweets and the following result of games. Further analysis may include performing this correlation analysis on the particular verified/nonverified datasets."
   ]
  },
  {
   "cell_type": "code",
   "execution_count": null,
   "metadata": {},
   "outputs": [],
   "source": []
  }
 ],
 "metadata": {
  "interpreter": {
   "hash": "54e72497fd64358f52832107e3cdfaf9f975ee2964d8f26ed128ba56fc24de73"
  },
  "kernelspec": {
   "display_name": "Python 3.8.8 ('base')",
   "language": "python",
   "name": "python3"
  },
  "language_info": {
   "codemirror_mode": {
    "name": "ipython",
    "version": 3
   },
   "file_extension": ".py",
   "mimetype": "text/x-python",
   "name": "python",
   "nbconvert_exporter": "python",
   "pygments_lexer": "ipython3",
   "version": "3.8.8"
  },
  "orig_nbformat": 4
 },
 "nbformat": 4,
 "nbformat_minor": 2
}
