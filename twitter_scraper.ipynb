{
 "cells": [
  {
   "cell_type": "code",
   "execution_count": 4,
   "metadata": {},
   "outputs": [],
   "source": [
    "import tweepy\n",
    "import pandas as pd\n",
    "import datetime as datetime\n",
    "\n",
    "auth = tweepy.OAuth2BearerHandler(\"AAAAAAAAAAAAAAAAAAAAAH6nYwEAAAAAK%2BezpbKj7NUWoAMW6SbFOfFruD4%3Dj134xtdV6I1kcGl4a1wnAaa7N2W0hQCA9avu7sDyvEEVWjIwmy\")\n",
    "api = tweepy.API(auth)"
   ]
  },
  {
   "cell_type": "code",
   "execution_count": 7,
   "metadata": {},
   "outputs": [],
   "source": [
    "#Searching the archive for tweets mentioning the mavs\n",
    "\n",
    "#mavsSearch = api.search_full_archive('dev', 'mavs', maxResults = 100)"
   ]
  },
  {
   "cell_type": "code",
   "execution_count": 8,
   "metadata": {},
   "outputs": [
    {
     "ename": "NameError",
     "evalue": "name 'mavsSearch' is not defined",
     "output_type": "error",
     "traceback": [
      "\u001b[1;31m---------------------------------------------------------------------------\u001b[0m",
      "\u001b[1;31mNameError\u001b[0m                                 Traceback (most recent call last)",
      "\u001b[1;32m<ipython-input-8-3c298ebc00be>\u001b[0m in \u001b[0;36m<module>\u001b[1;34m\u001b[0m\n\u001b[0;32m      2\u001b[0m \u001b[1;33m\u001b[0m\u001b[0m\n\u001b[0;32m      3\u001b[0m \u001b[1;32mimport\u001b[0m \u001b[0mjson\u001b[0m\u001b[1;33m\u001b[0m\u001b[1;33m\u001b[0m\u001b[0m\n\u001b[1;32m----> 4\u001b[1;33m \u001b[0mstatus\u001b[0m \u001b[1;33m=\u001b[0m \u001b[0mmavsSearch\u001b[0m\u001b[1;33m[\u001b[0m\u001b[1;36m0\u001b[0m\u001b[1;33m]\u001b[0m\u001b[1;33m\u001b[0m\u001b[1;33m\u001b[0m\u001b[0m\n\u001b[0m\u001b[0;32m      5\u001b[0m \u001b[0mjson_str\u001b[0m \u001b[1;33m=\u001b[0m \u001b[0mjson\u001b[0m\u001b[1;33m.\u001b[0m\u001b[0mdumps\u001b[0m\u001b[1;33m(\u001b[0m\u001b[0mstatus\u001b[0m\u001b[1;33m.\u001b[0m\u001b[0m_json\u001b[0m\u001b[1;33m)\u001b[0m\u001b[1;33m\u001b[0m\u001b[1;33m\u001b[0m\u001b[0m\n\u001b[0;32m      6\u001b[0m \u001b[0mparsed\u001b[0m \u001b[1;33m=\u001b[0m \u001b[0mjson\u001b[0m\u001b[1;33m.\u001b[0m\u001b[0mloads\u001b[0m\u001b[1;33m(\u001b[0m\u001b[0mjson_str\u001b[0m\u001b[1;33m)\u001b[0m\u001b[1;33m\u001b[0m\u001b[1;33m\u001b[0m\u001b[0m\n",
      "\u001b[1;31mNameError\u001b[0m: name 'mavsSearch' is not defined"
     ]
    }
   ],
   "source": [
    "#Viewing the first tweet\n",
    "\n",
    "import json\n",
    "status = mavsSearch[0]\n",
    "json_str = json.dumps(status._json)\n",
    "parsed = json.loads(json_str)\n",
    "\n",
    "print(json.dumps(parsed, indent=4, sort_keys=True))"
   ]
  },
  {
   "cell_type": "code",
   "execution_count": 9,
   "metadata": {},
   "outputs": [],
   "source": [
    "#Creates the mineTweet function which extracts the information from a query and returns a dictionary with tweet data\n",
    "#BUG: hashtags label also collects other random data from entities\n",
    "\n",
    "def mineTweets(query, fromDate=datetime.datetime.now()):\n",
    "        data = []\n",
    "        fromDate = datetime.datetime.strptime(str(fromDate), \"%Y-%m-%d %H:%M:%S.%f\").strftime('%Y%m%d%H%M')\n",
    "\n",
    "        searchResult = api.search_full_archive('dev', query, fromDate=fromDate, maxResults = 100)\n",
    "        for item in searchResult:\n",
    "                mined = {\n",
    "                        'tweet_id':        item.id,\n",
    "                        'name':            item.user.name,\n",
    "                        'screen_name':     item.user.screen_name,\n",
    "                        'retweet_count':   item.retweet_count,\n",
    "                        'text':            item.text,\n",
    "                        'hashtags':        item.entities['hashtags'],\n",
    "                        'location':        item.place,\n",
    "                        'is_verified':     item.user.verified,\n",
    "                        'created_at':      item.created_at\n",
    "                }\n",
    "                try:\n",
    "                        mined['retweet_text'] = item.retweeted_status.full_text\n",
    "                except:\n",
    "                        mined['retweet_text'] = 'None'\n",
    "                try:\n",
    "                        mined['quote_text'] = item.quoted_status.full_text\n",
    "                        mined['quote_screen_name'] = status.quoted_status.user.screen_name\n",
    "                except:\n",
    "                        mined['quote_text'] = 'None'\n",
    "                        mined['quote_screen_name'] = 'None'\n",
    "                \n",
    "                data.append(mined)\n",
    "        return pd.DataFrame(data)"
   ]
  },
  {
   "cell_type": "code",
   "execution_count": null,
   "metadata": {},
   "outputs": [
    {
     "ename": "NameError",
     "evalue": "name 'mineTweets' is not defined",
     "output_type": "error",
     "traceback": [
      "\u001b[1;31m---------------------------------------------------------------------------\u001b[0m",
      "\u001b[1;31mNameError\u001b[0m                                 Traceback (most recent call last)",
      "\u001b[1;32m<ipython-input-1-ce551bed576e>\u001b[0m in \u001b[0;36m<module>\u001b[1;34m\u001b[0m\n\u001b[1;32m----> 1\u001b[1;33m \u001b[0mmavs_df\u001b[0m \u001b[1;33m=\u001b[0m \u001b[0mmineTweets\u001b[0m\u001b[1;33m(\u001b[0m\u001b[1;34m'mavs'\u001b[0m\u001b[1;33m,\u001b[0m \u001b[1;34m'202202100019'\u001b[0m\u001b[1;33m)\u001b[0m\u001b[1;33m\u001b[0m\u001b[1;33m\u001b[0m\u001b[0m\n\u001b[0m\u001b[0;32m      2\u001b[0m \u001b[0mmavs_df\u001b[0m \u001b[1;33m=\u001b[0m \u001b[0mpd\u001b[0m\u001b[1;33m.\u001b[0m\u001b[0mDataFrame\u001b[0m\u001b[1;33m(\u001b[0m\u001b[1;33m)\u001b[0m\u001b[1;33m\u001b[0m\u001b[1;33m\u001b[0m\u001b[0m\n\u001b[0;32m      3\u001b[0m \u001b[1;33m\u001b[0m\u001b[0m\n\u001b[0;32m      4\u001b[0m \u001b[0mtime\u001b[0m \u001b[1;33m=\u001b[0m \u001b[0mdatetime\u001b[0m\u001b[1;33m.\u001b[0m\u001b[0mdatetime\u001b[0m\u001b[1;33m.\u001b[0m\u001b[0mnow\u001b[0m\u001b[1;33m(\u001b[0m\u001b[1;33m)\u001b[0m\u001b[1;33m\u001b[0m\u001b[1;33m\u001b[0m\u001b[0m\n\u001b[0;32m      5\u001b[0m \u001b[0mtime\u001b[0m \u001b[1;33m=\u001b[0m \u001b[0mdatetime\u001b[0m\u001b[1;33m.\u001b[0m\u001b[0mdatetime\u001b[0m\u001b[1;33m.\u001b[0m\u001b[0mstrptime\u001b[0m\u001b[1;33m(\u001b[0m\u001b[0mstr\u001b[0m\u001b[1;33m(\u001b[0m\u001b[0mtime\u001b[0m\u001b[1;33m)\u001b[0m\u001b[1;33m,\u001b[0m \u001b[1;34m\"%Y-%m-%d %H:%M:%S.%f\"\u001b[0m\u001b[1;33m)\u001b[0m\u001b[1;33m.\u001b[0m\u001b[0mstrftime\u001b[0m\u001b[1;33m(\u001b[0m\u001b[1;34m'%Y%m%d%H%M'\u001b[0m\u001b[1;33m)\u001b[0m\u001b[1;33m\u001b[0m\u001b[1;33m\u001b[0m\u001b[0m\n",
      "\u001b[1;31mNameError\u001b[0m: name 'mineTweets' is not defined"
     ]
    }
   ],
   "source": [
    "#Mining tweets on the mavs, commented out because twitter access was removed due to too many requests for the day.\n",
    "\n",
    "# mavs_df = mineTweets('mavs', '202202100019')\n",
    "# mavs_df = pd.DataFrame()\n",
    "\n",
    "# time = datetime.datetime.now()\n",
    "# time = datetime.datetime.strptime(str(time), \"%Y-%m-%d %H:%M:%S.%f\").strftime('%Y%m%d%H%M')\n",
    "# time = int(time)\n",
    "\n",
    "# while time > 202202090019:\n",
    "#     mavs_df = mavs_df.append(mineTweets('mavs', time))\n",
    "    \n",
    "#     dtTime = datetime.datetime.strptime(str(time), \"%Y%m%d%H%M%S\")\n",
    "#     if mavs_df.tweet_id.duplicated().sum() > 0:\n",
    "#         dtTime = dtTime - datetime.timedelta(minutes=5)\n",
    "#     else:\n",
    "#         dtTime = dtTime - datetime.timedelta(minutes=10)\n",
    "#     time = int(dtTime.strftime('%Y%m%d%H%M'))\n",
    "\n",
    "# mavs_df"
   ]
  },
  {
   "cell_type": "code",
   "execution_count": 16,
   "metadata": {},
   "outputs": [],
   "source": [
    "#Trying SNScrape Since the twitter API rate limited the scraper\n",
    "\n",
    "import snscrape.modules.twitter as sntwitter\n",
    "\n",
    "def mineSntwitter(query, maxCount):\n",
    "    tweet_list = []\n",
    "    for i,tweet in enumerate(sntwitter.TwitterSearchScraper(query).get_items()):\n",
    "        if i>maxCount:\n",
    "            break\n",
    "        tweet_list.append([\n",
    "                    tweet.date,\n",
    "                    tweet.id,\n",
    "                    tweet.user.username,\n",
    "                    tweet.content,\n",
    "                    tweet.user.verified,\n",
    "                    tweet.retweetCount,\n",
    "                    tweet.likeCount,\n",
    "        ])\n",
    "        tweet_df = pd.DataFrame(tweet_list, columns=['Datetime','tweet_id', 'username', 'text', 'verified', 'retweet_count', 'like_count'])\n",
    "\n",
    "    return tweet_df"
   ]
  },
  {
   "cell_type": "code",
   "execution_count": 17,
   "metadata": {},
   "outputs": [
    {
     "data": {
      "text/plain": [
       "0      Parlay (0.5u):\\n\\nBruins/Pens u5.5\\nSens/Canes...\n",
       "1      @TheRealAlexis I got close when Mavs traded Ba...\n",
       "2      Nah 49 seconds in against the mavs is absolute...\n",
       "3      @slingy24 @TheRealAlexis you won’t be alive in...\n",
       "4                                @jederdiahbuck And mavs\n",
       "                             ...                        \n",
       "96     @AGranad0 I'm not questioning his experience i...\n",
       "97     PARROT PICK:\\n\\nMavs/Pistons UNDER 212 4U!!\\n\\...\n",
       "98              @EnricoAmabile @AndBand7 @TheRealTaddy93\n",
       "99      @isaacappelt I’m trying to be like you my boy! 😂\n",
       "100    @Traininmybrain @StorieASpicchi @storieincuffi...\n",
       "Name: text, Length: 101, dtype: object"
      ]
     },
     "execution_count": 17,
     "metadata": {},
     "output_type": "execute_result"
    }
   ],
   "source": [
    "#Using SNScrape to scrape on tweets mentioning the mavs for the 2021-22 Season\n",
    "#TODO: Scrape for a list of queries relating to the mavs/whatever team and then drop the duplicates\n",
    "\n",
    "mavs_df = mineSntwitter('mavs since:2021-10-20 until:2022-02-09', 100)\n",
    "mavs_df.text"
   ]
  },
  {
   "cell_type": "code",
   "execution_count": null,
   "metadata": {},
   "outputs": [],
   "source": []
  }
 ],
 "metadata": {
  "interpreter": {
   "hash": "54e72497fd64358f52832107e3cdfaf9f975ee2964d8f26ed128ba56fc24de73"
  },
  "kernelspec": {
   "display_name": "Python 3.8.8 64-bit ('base': conda)",
   "language": "python",
   "name": "python3"
  },
  "language_info": {
   "codemirror_mode": {
    "name": "ipython",
    "version": 3
   },
   "file_extension": ".py",
   "mimetype": "text/x-python",
   "name": "python",
   "nbconvert_exporter": "python",
   "pygments_lexer": "ipython3",
   "version": "3.8.8"
  },
  "orig_nbformat": 4
 },
 "nbformat": 4,
 "nbformat_minor": 2
}
